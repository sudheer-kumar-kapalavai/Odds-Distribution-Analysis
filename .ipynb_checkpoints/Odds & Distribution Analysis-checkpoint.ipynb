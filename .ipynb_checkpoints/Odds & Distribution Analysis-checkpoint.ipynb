{
 "cells": [
  {
   "cell_type": "markdown",
   "metadata": {},
   "source": [
    "##  Odds & Distribution Analysis"
   ]
  },
  {
   "cell_type": "markdown",
   "metadata": {},
   "source": [
    "    It's a python script for analysing a given stock based on it's distribution of returns\n",
    "    \n",
    "    Note: The data is taken from yahoo finance, Timezone: Asia/Kolkata (IST)"
   ]
  },
  {
   "cell_type": "code",
   "execution_count": 113,
   "metadata": {},
   "outputs": [],
   "source": [
    "import datetime, time, pytz\n",
    "from pytz import timezone, all_timezones\n",
    "import pandas as pd\n",
    "import requests\n",
    "import json\n",
    "import csv \n",
    "import sys\n",
    "import os\n",
    "%matplotlib inline"
   ]
  },
  {
   "cell_type": "code",
   "execution_count": 130,
   "metadata": {},
   "outputs": [
    {
     "name": "stdout",
     "output_type": "stream",
     "text": [
      "Enter your timezone: Asia/Kolkata\n",
      "Enter stock name as per yahoo finance: ^NSEI\n",
      "Enter starting date in DD/MM/YYYY format: 01/01/2021\n",
      "Enter end date in DD/MM/YYYY format: 12/12/2021\n",
      "Select interval from [1d, 1wk, 1mo] : 1d\n"
     ]
    },
    {
     "data": {
      "image/png": "[encoded data removed]",
      "text/plain": [
       "<Figure size 432x288 with 1 Axes>"
      ]
     },
     "metadata": {
      "needs_background": "light"
     },
     "output_type": "display_data"
    }
   ],
   "source": [
    "def get_epoch_in_given_timezone(date, tz):\n",
    "    '''\n",
    "        Get the epoch of given date in given timezone\n",
    "    '''\n",
    "    assert tz in all_timezones\n",
    "    epoch = int(datetime.datetime.strptime(date, '%d/%m/%Y').timestamp())\n",
    "    #Add additional time from the UTC\n",
    "    dt = datetime.datetime.now(timezone('UTC'))\n",
    "    return epoch + dt.astimezone(timezone(tz)).utcoffset().seconds\n",
    "\n",
    "\n",
    "\n",
    "def convert_query_param_as_url(queryParams):\n",
    "    url = \"?\"\n",
    "    for key,value in queryParams.items():\n",
    "        url += key + \"=\" + str(value) + \"&\"\n",
    "    return url\n",
    "\n",
    "def generateRequest(method, url, headers,body):\n",
    "    return requests.request(method, url, headers=headers, data = json.dumps(body))\n",
    "    \n",
    "\n",
    "def isRequestSuccess(statusCode):\n",
    "    return statusCode in [200,201,202,204]\n",
    "\n",
    "def getFileName(headers):\n",
    "    return headers['content-disposition'].split(';')[1].split('=')[1]\n",
    "\n",
    "def downloadFile(url):\n",
    "    response = generateRequest(\"GET\", url, dict(), dict())\n",
    "    assert isRequestSuccess(response.status_code)\n",
    "    \n",
    "    fileName = getFileName(response.headers)\n",
    "    \n",
    "    content = response.content\n",
    "    csv_file = open(fileName, 'wb')\n",
    "    csv_file.write(content)\n",
    "    csv_file.close()\n",
    "    \n",
    "    return fileName\n",
    "    \n",
    "def interpret_stock_data(fileName):\n",
    "    df = pd.read_csv(fileName)\n",
    "    df['return'] = ((df['Close'] - df['Open'])/df['Open']).round(2)\n",
    "    df['return'].hist()\n",
    "\n",
    "def analyse_stock_data(symbol, startDate, endDate, timeZone, interval = '1d'):\n",
    "    url = \"https://query1.finance.yahoo.com/v7/finance/download/\" + symbol\n",
    "    \n",
    "    queryParams = dict()\n",
    "    queryParams['period1'] = get_epoch_in_given_timezone(startDate, timeZone)\n",
    "    queryParams['period2'] = get_epoch_in_given_timezone(endDate, timeZone)\n",
    "    queryParams['events'] = 'history'\n",
    "    queryParams['interval'] = interval\n",
    "    \n",
    "    url = url + convert_query_param_as_url(queryParams)\n",
    "    \n",
    "    fileName = downloadFile(url)\n",
    "    interpret_stock_data(fileName)\n",
    "\n",
    "\n",
    "if __name__ == \"__main__\":\n",
    "    timeZone = input('Enter your timezone: ')\n",
    "    stockName = input('Enter stock name as per yahoo finance: ')\n",
    "    startDate = input('Enter starting date in DD/MM/YYYY format: ')\n",
    "    endDate = input('Enter end date in DD/MM/YYYY format: ')\n",
    "    interval = input('Select interval from [1d, 1wk, 1mo] : ')\n",
    "    analyse_stock_data(stockName, startDate, endDate, timeZone, interval)"
   ]
  }
 ],
 "metadata": {
  "kernelspec": {
   "display_name": "Python 3",
   "language": "python",
   "name": "python3"
  },
  "language_info": {
   "codemirror_mode": {
    "name": "ipython",
    "version": 3
   },
   "file_extension": ".py",
   "mimetype": "text/x-python",
   "name": "python",
   "nbconvert_exporter": "python",
   "pygments_lexer": "ipython3",
   "version": "3.7.0"
  }
 },
 "nbformat": 4,
 "nbformat_minor": 2
}
